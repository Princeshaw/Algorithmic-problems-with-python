{
 "cells": [
  {
   "cell_type": "code",
   "execution_count": 1,
   "metadata": {},
   "outputs": [],
   "source": [
    "class Node:\n",
    "    def __init__(self,data):\n",
    "        self.data = data #Assigning the value in node\n",
    "        self.next = None # Initializing next as None"
   ]
  },
  {
   "cell_type": "code",
   "execution_count": 7,
   "metadata": {},
   "outputs": [],
   "source": [
    "class LinkedList: \n",
    "  # Function to initialize head \n",
    "    def __init__(self):\n",
    "        self.head = None\n",
    "    ## add node at the begning    \n",
    "    def push(self,new_data):\n",
    "        new_node = Node(new_data)\n",
    "        new_node.next = self.head\n",
    "        self.head = new_node\n",
    "    # add node at the end of the linkedlist    \n",
    "    def append(self, new_data):\n",
    "        new_node = Node(new_data)\n",
    "        if self.head is None:\n",
    "            self.head = new_node\n",
    "            return\n",
    "        last = self.head\n",
    "        while(last.next):\n",
    "            last = last.next   \n",
    "        last.next = new_node   \n",
    "        \n",
    "    def delete(self,pos):\n",
    "        #checking linkedlist is empty or not\n",
    "        if self.head is None:\n",
    "            print(\"LinkedList is empty\")\n",
    "            return\n",
    "        # store head node\n",
    "        temp = self.head\n",
    "        # if pos == 0\n",
    "        if pos == 0:\n",
    "            self.head = temp.next\n",
    "            #temp = None\n",
    "            return\n",
    "        for i in range(pos-1):\n",
    "            temp = temp.next\n",
    "        if temp is None:\n",
    "            return\n",
    "        if temp.next is None:\n",
    "            return\n",
    "        # store Next of the temp.next node \n",
    "        next_node =  temp.next.next\n",
    "        temp.next = None\n",
    "        temp.next = next_node\n",
    "        \n",
    "        \n",
    "    #Print all linkedList    \n",
    "    def printList(self): \n",
    "        temp = self.head \n",
    "        while (temp): \n",
    "            print (temp.data) \n",
    "            temp = temp.next    "
   ]
  },
  {
   "cell_type": "code",
   "execution_count": 8,
   "metadata": {},
   "outputs": [],
   "source": [
    "linkedlist = LinkedList()\n",
    "linkedlist.push(10)\n",
    "linkedlist.push(2)\n"
   ]
  },
  {
   "cell_type": "code",
   "execution_count": 9,
   "metadata": {},
   "outputs": [
    {
     "name": "stdout",
     "output_type": "stream",
     "text": [
      "2\n",
      "10\n"
     ]
    }
   ],
   "source": [
    "linkedlist.printList()"
   ]
  },
  {
   "cell_type": "code",
   "execution_count": null,
   "metadata": {},
   "outputs": [],
   "source": []
  },
  {
   "cell_type": "code",
   "execution_count": null,
   "metadata": {},
   "outputs": [],
   "source": []
  }
 ],
 "metadata": {
  "kernelspec": {
   "display_name": "Python 3",
   "language": "python",
   "name": "python3"
  },
  "language_info": {
   "codemirror_mode": {
    "name": "ipython",
    "version": 3
   },
   "file_extension": ".py",
   "mimetype": "text/x-python",
   "name": "python",
   "nbconvert_exporter": "python",
   "pygments_lexer": "ipython3",
   "version": "3.7.7"
  }
 },
 "nbformat": 4,
 "nbformat_minor": 2
}
