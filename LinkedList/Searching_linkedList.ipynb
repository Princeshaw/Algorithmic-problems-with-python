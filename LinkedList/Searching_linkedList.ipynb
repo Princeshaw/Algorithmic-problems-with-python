{
 "cells": [
  {
   "cell_type": "code",
   "execution_count": 1,
   "metadata": {},
   "outputs": [],
   "source": [
    "class Node:\n",
    "    def __init__(self,data):\n",
    "        self.data = data #Assigning the value in node\n",
    "        self.next = None # Initializing next as None"
   ]
  },
  {
   "cell_type": "code",
   "execution_count": 2,
   "metadata": {},
   "outputs": [],
   "source": [
    "class LinkedList:\n",
    "    def __init__(self):\n",
    "        self.head = None\n",
    "        self.numOfNode = 0\n",
    "    def insert_start(self,data):\n",
    "        self.numOfNode += 1\n",
    "        new_node = Node(data)\n",
    "        new_node.next = self.head\n",
    "        self.head = new_node\n",
    "        \n",
    "        \n",
    "    def insert_end(self,data):\n",
    "        self.numOfNode += 1\n",
    "        new_node = Node(data)\n",
    "        if self.head is None:\n",
    "            self.head = new_node\n",
    "            return\n",
    "        last = self.head\n",
    "        while(last.next):\n",
    "            last = last.next\n",
    "        last.next = new_node \n",
    "        \n",
    "    # search Iterative method\n",
    "    def SearchIterative(self,value):\n",
    "        current = self.head\n",
    "        i = 1\n",
    "        while(current):\n",
    "            if(current.data == value):\n",
    "                return(True)\n",
    "            else:\n",
    "                current = current.next\n",
    "        return False\n",
    "    def recursiveSearch(self,li,key):\n",
    "        if not li:\n",
    "            return False\n",
    "        if li.data==key:\n",
    "            return True\n",
    "        return self.recursiveSearch(li.next,key)\n",
    "            \n",
    "        \n",
    "    def printLinkedList(self):\n",
    "        temp =self.head\n",
    "        while(temp):\n",
    "            print(temp.data)\n",
    "            temp = temp.next\n",
    "  "
   ]
  },
  {
   "cell_type": "code",
   "execution_count": 3,
   "metadata": {},
   "outputs": [],
   "source": [
    "myList = LinkedList()\n",
    "myList.insert_start(2)\n",
    "myList.insert_end(3)\n",
    "myList.insert_start(1)\n",
    "myList.insert_end(8)\n",
    "myList.insert_end(6)\n",
    "myList.insert_end(11)\n"
   ]
  },
  {
   "cell_type": "code",
   "execution_count": 4,
   "metadata": {},
   "outputs": [
    {
     "name": "stdout",
     "output_type": "stream",
     "text": [
      "1\n",
      "2\n",
      "3\n",
      "8\n",
      "6\n",
      "11\n"
     ]
    }
   ],
   "source": [
    "myList.printLinkedList()"
   ]
  },
  {
   "cell_type": "code",
   "execution_count": 5,
   "metadata": {},
   "outputs": [
    {
     "name": "stdout",
     "output_type": "stream",
     "text": [
      "True\n"
     ]
    }
   ],
   "source": [
    "print(myList.SearchIterative(11))"
   ]
  },
  {
   "cell_type": "code",
   "execution_count": 6,
   "metadata": {},
   "outputs": [
    {
     "name": "stdout",
     "output_type": "stream",
     "text": [
      "False\n"
     ]
    }
   ],
   "source": [
    "print(myList.recursiveSearch(myList.head,13))"
   ]
  },
  {
   "cell_type": "code",
   "execution_count": null,
   "metadata": {},
   "outputs": [],
   "source": []
  }
 ],
 "metadata": {
  "kernelspec": {
   "display_name": "Python 3",
   "language": "python",
   "name": "python3"
  },
  "language_info": {
   "codemirror_mode": {
    "name": "ipython",
    "version": 3
   },
   "file_extension": ".py",
   "mimetype": "text/x-python",
   "name": "python",
   "nbconvert_exporter": "python",
   "pygments_lexer": "ipython3",
   "version": "3.7.7"
  }
 },
 "nbformat": 4,
 "nbformat_minor": 4
}
