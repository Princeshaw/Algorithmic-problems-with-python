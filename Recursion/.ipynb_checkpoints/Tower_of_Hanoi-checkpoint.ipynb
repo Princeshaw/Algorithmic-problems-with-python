{
 "cells": [
  {
   "cell_type": "code",
   "execution_count": 1,
   "metadata": {},
   "outputs": [],
   "source": [
    "def honio(n,tower_from,tower_mid,tower_final):\n",
    "    if(n==1):\n",
    "        print(\"1 from %s to %s \"%(tower_from,tower_final))\n",
    "        return\n",
    "    \n",
    "    honio(n-1,tower_from,tower_final,tower_mid)\n",
    "    print(\"%s from %s to %s\"%(n,tower_from,tower_final))\n",
    "    honio(n-1,tower_mid,tower_from,tower_final)\n",
    "        "
   ]
  },
  {
   "cell_type": "code",
   "execution_count": 2,
   "metadata": {},
   "outputs": [
    {
     "name": "stdout",
     "output_type": "stream",
     "text": [
      "1 from A to C \n",
      "1 from A to B\n",
      "1 from C to B \n",
      "2 from A to C\n",
      "1 from B to A \n",
      "1 from B to C\n",
      "1 from A to C \n"
     ]
    }
   ],
   "source": [
    "honio(3,'A','B','C')"
   ]
  },
  {
   "cell_type": "code",
   "execution_count": null,
   "metadata": {},
   "outputs": [],
   "source": []
  }
 ],
 "metadata": {
  "kernelspec": {
   "display_name": "Python 3",
   "language": "python",
   "name": "python3"
  },
  "language_info": {
   "codemirror_mode": {
    "name": "ipython",
    "version": 3
   },
   "file_extension": ".py",
   "mimetype": "text/x-python",
   "name": "python",
   "nbconvert_exporter": "python",
   "pygments_lexer": "ipython3",
   "version": "3.7.4"
  }
 },
 "nbformat": 4,
 "nbformat_minor": 2
}
