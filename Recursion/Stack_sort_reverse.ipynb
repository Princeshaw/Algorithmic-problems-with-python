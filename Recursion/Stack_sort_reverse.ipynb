{
 "cells": [
  {
   "cell_type": "code",
   "execution_count": 2,
   "metadata": {},
   "outputs": [],
   "source": [
    "def create_stack():\n",
    "    stack  = []\n",
    "    return(stack)"
   ]
  },
  {
   "cell_type": "code",
   "execution_count": 14,
   "metadata": {},
   "outputs": [],
   "source": [
    "def isEmpty(stack):\n",
    "    return(len(stack)==0)"
   ]
  },
  {
   "cell_type": "code",
   "execution_count": 4,
   "metadata": {},
   "outputs": [],
   "source": [
    "def push(stack,item):\n",
    "    stack.append(item)    "
   ]
  },
  {
   "cell_type": "code",
   "execution_count": 5,
   "metadata": {},
   "outputs": [],
   "source": [
    "def pop(stack):\n",
    "    if(isEmpty(stack)):\n",
    "        print(\"stack is empty\")\n",
    "        return\n",
    "    else:\n",
    "        return stack.pop()"
   ]
  },
  {
   "cell_type": "code",
   "execution_count": 6,
   "metadata": {},
   "outputs": [],
   "source": [
    "def print_stack(stack):\n",
    "    for i in stack:\n",
    "        print(i,end=\" \")\n",
    "    print()    "
   ]
  },
  {
   "cell_type": "code",
   "execution_count": 7,
   "metadata": {},
   "outputs": [],
   "source": [
    "def stackPushAtEnd(stack,item):\n",
    "    if isEmpty(stack): \n",
    "        push(stack, item) \n",
    "    else: \n",
    "        temp = pop(stack) \n",
    "        stackPushAtEnd(stack, item) \n",
    "        push(stack, temp) "
   ]
  },
  {
   "cell_type": "code",
   "execution_count": 8,
   "metadata": {},
   "outputs": [],
   "source": [
    "def reverseStackRecursive(stack):\n",
    "    if not isEmpty(stack): \n",
    "        temp = pop(stack) \n",
    "        reverseStackRecursive(stack) \n",
    "        stackPushAtEnd(stack, temp) "
   ]
  },
  {
   "cell_type": "code",
   "execution_count": 10,
   "metadata": {},
   "outputs": [],
   "source": [
    "stack = create_stack()\n",
    "push(stack,1)\n",
    "push(stack,5)\n",
    "push(stack,3)\n",
    "push(stack,4)\n",
    "push(stack,9)\n",
    "push(stack,7)\n"
   ]
  },
  {
   "cell_type": "code",
   "execution_count": 12,
   "metadata": {},
   "outputs": [
    {
     "name": "stdout",
     "output_type": "stream",
     "text": [
      "1 5 3 4 9 7 \n"
     ]
    }
   ],
   "source": [
    "print_stack(stack)"
   ]
  },
  {
   "cell_type": "code",
   "execution_count": 15,
   "metadata": {},
   "outputs": [],
   "source": [
    "reverseStackRecursive(stack)"
   ]
  },
  {
   "cell_type": "code",
   "execution_count": 16,
   "metadata": {},
   "outputs": [
    {
     "name": "stdout",
     "output_type": "stream",
     "text": [
      "7 9 4 3 5 1 \n"
     ]
    }
   ],
   "source": [
    "print_stack(stack)"
   ]
  },
  {
   "cell_type": "code",
   "execution_count": 18,
   "metadata": {},
   "outputs": [],
   "source": [
    "def insertSortStack(s , element): \n",
    "    if len(s) == 0 or element > s[-1]: \n",
    "        s.append(element) \n",
    "        return\n",
    "    else: \n",
    "          \n",
    "        temp = s.pop() \n",
    "        insertSortStack(s, element) \n",
    "        s.append(temp) \n"
   ]
  },
  {
   "cell_type": "code",
   "execution_count": 19,
   "metadata": {},
   "outputs": [],
   "source": [
    "def sortStack(s): \n",
    "      \n",
    "    # If stack is not empty \n",
    "    if len(s) != 0: \n",
    "          \n",
    "        # Remove the top item \n",
    "        temp = s.pop() \n",
    "          \n",
    "        # Sort remaining stack \n",
    "        sortStack(s) \n",
    "          \n",
    "        # Push the top item back in sorted stack \n",
    "        insertSortStack(s , temp) \n"
   ]
  },
  {
   "cell_type": "code",
   "execution_count": 20,
   "metadata": {},
   "outputs": [],
   "source": [
    "stack = create_stack()\n",
    "push(stack,1)\n",
    "push(stack,5)\n",
    "push(stack,3)\n",
    "push(stack,4)\n",
    "push(stack,9)\n",
    "push(stack,7)\n"
   ]
  },
  {
   "cell_type": "code",
   "execution_count": 21,
   "metadata": {},
   "outputs": [
    {
     "name": "stdout",
     "output_type": "stream",
     "text": [
      "1 5 3 4 9 7 \n"
     ]
    }
   ],
   "source": [
    "print_stack(stack)"
   ]
  },
  {
   "cell_type": "code",
   "execution_count": 22,
   "metadata": {},
   "outputs": [],
   "source": [
    "sortStack(stack)"
   ]
  },
  {
   "cell_type": "code",
   "execution_count": 23,
   "metadata": {},
   "outputs": [
    {
     "name": "stdout",
     "output_type": "stream",
     "text": [
      "1 3 4 5 7 9 \n"
     ]
    }
   ],
   "source": [
    "print_stack(stack)\n"
   ]
  },
  {
   "cell_type": "code",
   "execution_count": null,
   "metadata": {},
   "outputs": [],
   "source": []
  }
 ],
 "metadata": {
  "kernelspec": {
   "display_name": "Python 3",
   "language": "python",
   "name": "python3"
  },
  "language_info": {
   "codemirror_mode": {
    "name": "ipython",
    "version": 3
   },
   "file_extension": ".py",
   "mimetype": "text/x-python",
   "name": "python",
   "nbconvert_exporter": "python",
   "pygments_lexer": "ipython3",
   "version": "3.7.4"
  }
 },
 "nbformat": 4,
 "nbformat_minor": 2
}
