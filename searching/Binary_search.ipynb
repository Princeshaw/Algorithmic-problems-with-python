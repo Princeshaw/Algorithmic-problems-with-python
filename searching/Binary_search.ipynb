{
 "cells": [
  {
   "cell_type": "code",
   "execution_count": 65,
   "metadata": {},
   "outputs": [],
   "source": [
    "def binary_search(arr,item,left,right):\n",
    "    if(right<left):\n",
    "        return(-1)\n",
    "    mid = left+right\n",
    "    if(arr[mid]==item):\n",
    "        return(mid)\n",
    "    elif(arr[mid]>item):\n",
    "        return binary_search(arr,item,left,mid-1)\n",
    "    elif(arr[mid]<item):\n",
    "        return(arr,item,right,mid+1)"
   ]
  },
  {
   "cell_type": "code",
   "execution_count": 66,
   "metadata": {},
   "outputs": [
    {
     "name": "stdout",
     "output_type": "stream",
     "text": [
      "3\n"
     ]
    }
   ],
   "source": [
    "arr = [1,2,4,6,8,9]\n",
    "print(binary_search(arr,6,0,(len(arr)-1)))"
   ]
  },
  {
   "cell_type": "code",
   "execution_count": null,
   "metadata": {},
   "outputs": [],
   "source": []
  }
 ],
 "metadata": {
  "kernelspec": {
   "display_name": "Python 3",
   "language": "python",
   "name": "python3"
  },
  "language_info": {
   "codemirror_mode": {
    "name": "ipython",
    "version": 3
   },
   "file_extension": ".py",
   "mimetype": "text/x-python",
   "name": "python",
   "nbconvert_exporter": "python",
   "pygments_lexer": "ipython3",
   "version": "3.7.4"
  }
 },
 "nbformat": 4,
 "nbformat_minor": 2
}
