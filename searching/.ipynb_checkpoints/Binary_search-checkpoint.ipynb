{
 "cells": [
  {
   "cell_type": "code",
   "execution_count": 26,
   "metadata": {},
   "outputs": [],
   "source": [
    "def binary_search(arr,item,left,right):\n",
    "    if(right<left):\n",
    "        return(-1)\n",
    "    middle = (left+right)//2\n",
    "    if(arr[middle]==item):\n",
    "        print(middle)\n",
    "        return(middle)\n",
    "    elif(item<arr[middle]):\n",
    "        print(\"move left from %s to %s\"%(left,middle-1))\n",
    "        binary_search(arr,item,left,middle-1)\n",
    "    elif(item>arr[middle]) :\n",
    "        print(\"move right from %s to %s\"%(middle+1,right))\n",
    "        binary_search(arr,item,middle+1,right)"
   ]
  },
  {
   "cell_type": "code",
   "execution_count": 27,
   "metadata": {},
   "outputs": [
    {
     "name": "stdout",
     "output_type": "stream",
     "text": [
      "move right from 3 to 5\n",
      "move left from 3 to 3\n",
      "3\n",
      "None\n"
     ]
    }
   ],
   "source": [
    "arr = [1,2,4,6,8,9]\n",
    "print(binary_search(arr,6,0,(len(arr)-1)))"
   ]
  },
  {
   "cell_type": "code",
   "execution_count": null,
   "metadata": {},
   "outputs": [],
   "source": []
  }
 ],
 "metadata": {
  "kernelspec": {
   "display_name": "Python 3",
   "language": "python",
   "name": "python3"
  },
  "language_info": {
   "codemirror_mode": {
    "name": "ipython",
    "version": 3
   },
   "file_extension": ".py",
   "mimetype": "text/x-python",
   "name": "python",
   "nbconvert_exporter": "python",
   "pygments_lexer": "ipython3",
   "version": "3.7.4"
  }
 },
 "nbformat": 4,
 "nbformat_minor": 2
}
